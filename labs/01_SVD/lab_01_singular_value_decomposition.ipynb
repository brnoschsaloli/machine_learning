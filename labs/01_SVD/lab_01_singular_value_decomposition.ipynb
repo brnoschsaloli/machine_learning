{
 "cells": [
  {
   "cell_type": "markdown",
   "metadata": {},
   "source": [
    "# Experiment: Which drugs are \"similar\", from prescription data?"
   ]
  },
  {
   "cell_type": "markdown",
   "metadata": {},
   "source": [
    "In the USA the social program for prescription drugs is the \"Medicare Part D Prescription Drug\" program. Data regarding the prescribed drugs per provider and drug are available at https://data.cms.gov/provider-summary-by-type-of-service/medicare-part-d-prescribers/medicare-part-d-prescribers-by-provider-and-drug/\n",
    "\n",
    "On this website you can select the columns you want. I downloaded only the code for the drug provider (`Prscrbr_NPI`), the type of provider (`Prscrbr_Type`), the generic name for the drug (`Gnrc_Name`) and the total number of claims made by this provider (`Tot_Clms`):\n",
    "\n",
    "<center><img src='./image.png' width=50%></img></center>\n",
    "\n",
    "As a result, I got a 197MB zip file. I made a folder named `data` and placed the file there. Let's load the data:"
   ]
  },
  {
   "cell_type": "code",
   "execution_count": 6,
   "metadata": {},
   "outputs": [],
   "source": [
    "import zipfile\n",
    "from pathlib import Path\n",
    "\n",
    "import pandas as pd\n",
    "\n",
    "DATA_DIR = Path.cwd() / 'data'\n",
    "CSV_FILE_NAME = 'Medicare_Part_D_Prescribers_by_Provider_and_Drug_2022.csv'\n",
    "\n",
    "\n",
    "\n",
    "def load_data(data_dir=DATA_DIR, csv_file_name=CSV_FILE_NAME):\n",
    "    csv_file_path = data_dir / csv_file_name\n",
    "\n",
    "    if not csv_file_path.is_file():\n",
    "        print(f'{csv_file_path} not found, extracting zip file')\n",
    "        zip_file_path = data_dir / \"Medicare_Part_D_Prescribers_by_Provider_and_Drug_2022.zip\"\n",
    "        if not zip_file_path.is_file():\n",
    "            raise FileNotFoundError(f\"File not found: {zip_file_path}\")\n",
    "        with zipfile.ZipFile(zip_file_path, 'r') as zip_ref:\n",
    "            zip_ref.extractall(data_dir)\n",
    "    print(f'Loading data from {csv_file_path}')\n",
    "    df = pd.read_csv(csv_file_path)\n",
    "    return df"
   ]
  },
  {
   "cell_type": "code",
   "execution_count": 7,
   "metadata": {},
   "outputs": [
    {
     "name": "stdout",
     "output_type": "stream",
     "text": [
      "Loading data from c:\\Users\\brnos\\OneDrive\\Documentos\\insper\\6comp\\MachineLearning\\machine_learning\\labs\\01_SVD\\data\\Medicare_Part_D_Prescribers_by_Provider_and_Drug_2022.csv\n"
     ]
    }
   ],
   "source": [
    "df = load_data()"
   ]
  },
  {
   "cell_type": "markdown",
   "metadata": {},
   "source": [
    "## Exploratory analysis"
   ]
  },
  {
   "cell_type": "markdown",
   "metadata": {},
   "source": [
    "What does the data look like?"
   ]
  },
  {
   "cell_type": "code",
   "execution_count": 8,
   "metadata": {},
   "outputs": [
    {
     "data": {
      "text/plain": [
       "(25869521, 4)"
      ]
     },
     "execution_count": 8,
     "metadata": {},
     "output_type": "execute_result"
    }
   ],
   "source": [
    "df.shape"
   ]
  },
  {
   "cell_type": "markdown",
   "metadata": {},
   "source": [
    "- About 25 million rows, 4 columns"
   ]
  },
  {
   "cell_type": "code",
   "execution_count": 9,
   "metadata": {},
   "outputs": [
    {
     "name": "stdout",
     "output_type": "stream",
     "text": [
      "<class 'pandas.core.frame.DataFrame'>\n",
      "RangeIndex: 25869521 entries, 0 to 25869520\n",
      "Data columns (total 4 columns):\n",
      " #   Column        Dtype \n",
      "---  ------        ----- \n",
      " 0   Prscrbr_NPI   int64 \n",
      " 1   Prscrbr_Type  object\n",
      " 2   Gnrc_Name     object\n",
      " 3   Tot_Clms      int64 \n",
      "dtypes: int64(2), object(2)\n",
      "memory usage: 789.5+ MB\n"
     ]
    }
   ],
   "source": [
    "df.info()"
   ]
  },
  {
   "cell_type": "markdown",
   "metadata": {},
   "source": [
    "- The columns are:\n",
    "\n",
    "| Column Name  | Description                  | Dtype   | Type meaning |\n",
    "|--------------|------------------------------|---------|--------------|\n",
    "| Prscrbr_NPI  | Doctor's ID                  | int64   | an integer   |  \n",
    "| Prscrbr_Type | Doctor type                  | object  | a string     | \n",
    "| Gnrc_Name    | Drug name                    | object  | a string     | \n",
    "| Tot_Clms     | Number of prescriptions made | int64   | an integer   | "
   ]
  },
  {
   "cell_type": "code",
   "execution_count": 10,
   "metadata": {},
   "outputs": [
    {
     "data": {
      "text/html": [
       "<div>\n",
       "<style scoped>\n",
       "    .dataframe tbody tr th:only-of-type {\n",
       "        vertical-align: middle;\n",
       "    }\n",
       "\n",
       "    .dataframe tbody tr th {\n",
       "        vertical-align: top;\n",
       "    }\n",
       "\n",
       "    .dataframe thead th {\n",
       "        text-align: right;\n",
       "    }\n",
       "</style>\n",
       "<table border=\"1\" class=\"dataframe\">\n",
       "  <thead>\n",
       "    <tr style=\"text-align: right;\">\n",
       "      <th></th>\n",
       "      <th>Prscrbr_NPI</th>\n",
       "      <th>Prscrbr_Type</th>\n",
       "      <th>Gnrc_Name</th>\n",
       "      <th>Tot_Clms</th>\n",
       "    </tr>\n",
       "  </thead>\n",
       "  <tbody>\n",
       "    <tr>\n",
       "      <th>0</th>\n",
       "      <td>1003000126</td>\n",
       "      <td>Internal Medicine</td>\n",
       "      <td>Amlodipine Besylate</td>\n",
       "      <td>19</td>\n",
       "    </tr>\n",
       "    <tr>\n",
       "      <th>1</th>\n",
       "      <td>1003000126</td>\n",
       "      <td>Internal Medicine</td>\n",
       "      <td>Atorvastatin Calcium</td>\n",
       "      <td>11</td>\n",
       "    </tr>\n",
       "    <tr>\n",
       "      <th>2</th>\n",
       "      <td>1003000126</td>\n",
       "      <td>Internal Medicine</td>\n",
       "      <td>Apixaban</td>\n",
       "      <td>15</td>\n",
       "    </tr>\n",
       "    <tr>\n",
       "      <th>3</th>\n",
       "      <td>1003000126</td>\n",
       "      <td>Internal Medicine</td>\n",
       "      <td>Escitalopram Oxalate</td>\n",
       "      <td>16</td>\n",
       "    </tr>\n",
       "    <tr>\n",
       "      <th>4</th>\n",
       "      <td>1003000126</td>\n",
       "      <td>Internal Medicine</td>\n",
       "      <td>Hydrochlorothiazide</td>\n",
       "      <td>12</td>\n",
       "    </tr>\n",
       "    <tr>\n",
       "      <th>5</th>\n",
       "      <td>1003000126</td>\n",
       "      <td>Internal Medicine</td>\n",
       "      <td>Levofloxacin</td>\n",
       "      <td>11</td>\n",
       "    </tr>\n",
       "    <tr>\n",
       "      <th>6</th>\n",
       "      <td>1003000126</td>\n",
       "      <td>Internal Medicine</td>\n",
       "      <td>Levothyroxine Sodium</td>\n",
       "      <td>11</td>\n",
       "    </tr>\n",
       "    <tr>\n",
       "      <th>7</th>\n",
       "      <td>1003000126</td>\n",
       "      <td>Internal Medicine</td>\n",
       "      <td>Losartan Potassium</td>\n",
       "      <td>13</td>\n",
       "    </tr>\n",
       "    <tr>\n",
       "      <th>8</th>\n",
       "      <td>1003000126</td>\n",
       "      <td>Internal Medicine</td>\n",
       "      <td>Metoprolol Succinate</td>\n",
       "      <td>12</td>\n",
       "    </tr>\n",
       "    <tr>\n",
       "      <th>9</th>\n",
       "      <td>1003000126</td>\n",
       "      <td>Internal Medicine</td>\n",
       "      <td>Pantoprazole Sodium</td>\n",
       "      <td>24</td>\n",
       "    </tr>\n",
       "  </tbody>\n",
       "</table>\n",
       "</div>"
      ],
      "text/plain": [
       "   Prscrbr_NPI       Prscrbr_Type             Gnrc_Name  Tot_Clms\n",
       "0   1003000126  Internal Medicine   Amlodipine Besylate        19\n",
       "1   1003000126  Internal Medicine  Atorvastatin Calcium        11\n",
       "2   1003000126  Internal Medicine              Apixaban        15\n",
       "3   1003000126  Internal Medicine  Escitalopram Oxalate        16\n",
       "4   1003000126  Internal Medicine   Hydrochlorothiazide        12\n",
       "5   1003000126  Internal Medicine          Levofloxacin        11\n",
       "6   1003000126  Internal Medicine  Levothyroxine Sodium        11\n",
       "7   1003000126  Internal Medicine    Losartan Potassium        13\n",
       "8   1003000126  Internal Medicine  Metoprolol Succinate        12\n",
       "9   1003000126  Internal Medicine   Pantoprazole Sodium        24"
      ]
     },
     "execution_count": 10,
     "metadata": {},
     "output_type": "execute_result"
    }
   ],
   "source": [
    "df.head(10)"
   ]
  },
  {
   "cell_type": "markdown",
   "metadata": {},
   "source": [
    "How many absent items (NaNs) are there in the dataset?"
   ]
  },
  {
   "cell_type": "code",
   "execution_count": 11,
   "metadata": {},
   "outputs": [
    {
     "data": {
      "text/plain": [
       "Prscrbr_NPI     0\n",
       "Prscrbr_Type    5\n",
       "Gnrc_Name       0\n",
       "Tot_Clms        0\n",
       "dtype: int64"
      ]
     },
     "execution_count": 11,
     "metadata": {},
     "output_type": "execute_result"
    }
   ],
   "source": [
    "df.isna().sum()"
   ]
  },
  {
   "cell_type": "markdown",
   "metadata": {},
   "source": [
    "So there are only five absent items in the `Prscrbr_Type` column. Let's discard the corresponding rows:"
   ]
  },
  {
   "cell_type": "code",
   "execution_count": 12,
   "metadata": {},
   "outputs": [],
   "source": [
    "df = df.dropna()"
   ]
  },
  {
   "cell_type": "code",
   "execution_count": 13,
   "metadata": {},
   "outputs": [
    {
     "data": {
      "text/plain": [
       "(25869516, 4)"
      ]
     },
     "execution_count": 13,
     "metadata": {},
     "output_type": "execute_result"
    }
   ],
   "source": [
    "df.shape"
   ]
  },
  {
   "cell_type": "markdown",
   "metadata": {},
   "source": [
    "The `Prscrbr_NPI`, `Prscrbr_Type`, and `Gnrc_Name` contain categorical values. How many categories in each of them?"
   ]
  },
  {
   "cell_type": "code",
   "execution_count": 14,
   "metadata": {},
   "outputs": [
    {
     "data": {
      "text/plain": [
       "Prscrbr_NPI     1057564\n",
       "Prscrbr_Type        180\n",
       "Gnrc_Name          1757\n",
       "dtype: int64"
      ]
     },
     "execution_count": 14,
     "metadata": {},
     "output_type": "execute_result"
    }
   ],
   "source": [
    "df[['Prscrbr_NPI', 'Prscrbr_Type', 'Gnrc_Name']].nunique()"
   ]
  },
  {
   "cell_type": "markdown",
   "metadata": {},
   "source": [
    "If we were to create a matrix of `Prscrbr_NPI` by `Gnrc_Name`, with `Tot_Clms` for cell values, that matrix would be of size $1057564 \\times 1757$! How many values a matrix of this size would store?"
   ]
  },
  {
   "cell_type": "code",
   "execution_count": 19,
   "metadata": {},
   "outputs": [
    {
     "name": "stdout",
     "output_type": "stream",
     "text": [
      "1,858,139,948\n"
     ]
    }
   ],
   "source": [
    "num_positions = 1057564 * 1757\n",
    "print(f'{num_positions:,}')"
   ]
  },
  {
   "cell_type": "markdown",
   "metadata": {},
   "source": [
    "Almost two billion positions! And most of them are zeros, because we only have $25,869,516$ non-zero values."
   ]
  },
  {
   "cell_type": "code",
   "execution_count": 20,
   "metadata": {},
   "outputs": [
    {
     "name": "stdout",
     "output_type": "stream",
     "text": [
      "25,869,516\n"
     ]
    }
   ],
   "source": [
    "num_nonzero_positions = df.shape[0]\n",
    "print(f'{num_nonzero_positions:,}')"
   ]
  },
  {
   "cell_type": "markdown",
   "metadata": {},
   "source": [
    "The occupancy ratio of this matrix is very, very small:"
   ]
  },
  {
   "cell_type": "code",
   "execution_count": 21,
   "metadata": {},
   "outputs": [
    {
     "name": "stdout",
     "output_type": "stream",
     "text": [
      "1.39%\n"
     ]
    }
   ],
   "source": [
    "occupancy_ratio = num_nonzero_positions / num_positions\n",
    "print(f'{occupancy_ratio:.2%}')"
   ]
  },
  {
   "cell_type": "markdown",
   "metadata": {},
   "source": [
    "Only about $1.39\\%$ of the matrix is non-zero. Such matrices are called *sparse matrices*. There are algorithmic techniques to handle sparse matrices in an efficient manner, both in terms of amount of computation to be performed and in memory usage. We will make use of it in a bit.\n",
    "\n",
    "But we should also consider whether all of these categories in `Prscrbr_NPI` and `Gnrc_Name` are truly useful. Maybe categories with under-representation could be discarded, since we want to focus on the most present information only.\n",
    "\n",
    "Let's start with the physician type:"
   ]
  },
  {
   "cell_type": "code",
   "execution_count": 22,
   "metadata": {},
   "outputs": [],
   "source": [
    "count_Prscrbr_Type = df['Prscrbr_Type'].value_counts()"
   ]
  },
  {
   "cell_type": "code",
   "execution_count": 23,
   "metadata": {},
   "outputs": [
    {
     "data": {
      "text/plain": [
       "Prscrbr_Type\n",
       "Family Practice        6651765\n",
       "Internal Medicine      5603062\n",
       "Nurse Practitioner     5053595\n",
       "Physician Assistant    1878231\n",
       "Cardiology              710812\n",
       "Psychiatry              547364\n",
       "General Practice        407701\n",
       "Neurology               386005\n",
       "Endocrinology           271592\n",
       "Ophthalmology           260765\n",
       "Name: count, dtype: int64"
      ]
     },
     "execution_count": 23,
     "metadata": {},
     "output_type": "execute_result"
    }
   ],
   "source": [
    "count_Prscrbr_Type.head(10)"
   ]
  },
  {
   "cell_type": "markdown",
   "metadata": {},
   "source": [
    "There is a steep decline in representation from the most common type of doctor (\"Family Practice\") to the 10th most common (\"Ophtalmology\")."
   ]
  },
  {
   "cell_type": "code",
   "execution_count": 24,
   "metadata": {},
   "outputs": [
    {
     "data": {
      "text/plain": [
       "Prscrbr_Type\n",
       "Clinical Medical Laboratory                              1\n",
       "Assisted Living Facility                                 1\n",
       "Public Health or Welfare Agency                          1\n",
       "Home Health Aide                                         1\n",
       "Local Education Agency (LEA)                             1\n",
       "Independent Diagnostic Testing Facility (IDTF)           1\n",
       "Nursing Home Administrator                               1\n",
       "Doula                                                    1\n",
       "Residential Treatment Facility, Physical Disabilities    1\n",
       "Phlebology                                               1\n",
       "Name: count, dtype: int64"
      ]
     },
     "execution_count": 24,
     "metadata": {},
     "output_type": "execute_result"
    }
   ],
   "source": [
    "count_Prscrbr_Type.tail(10)"
   ]
  },
  {
   "cell_type": "markdown",
   "metadata": {},
   "source": [
    "The least represented types of doctor have only one entry each.\n",
    "\n",
    "Let's decide on a cutoff value to filter the least common types. It will be quite arbitrary, and it is worthwhile to consider whether this removal of information will qualitatively impact the conclusions to be obtained from the analysis of this dataset - keep this in mind, ok?"
   ]
  },
  {
   "cell_type": "code",
   "execution_count": 25,
   "metadata": {},
   "outputs": [],
   "source": [
    "import numpy as np"
   ]
  },
  {
   "cell_type": "code",
   "execution_count": 26,
   "metadata": {},
   "outputs": [
    {
     "data": {
      "text/plain": [
       "0.00          1.00\n",
       "0.05          1.00\n",
       "0.10          2.00\n",
       "0.15          6.00\n",
       "0.20         11.00\n",
       "0.25         19.00\n",
       "0.30         28.00\n",
       "0.35         46.30\n",
       "0.40        124.20\n",
       "0.45        193.30\n",
       "0.50        465.50\n",
       "0.55       1169.85\n",
       "0.60       2337.00\n",
       "0.65       4591.80\n",
       "0.70       8970.40\n",
       "0.75      18265.25\n",
       "0.80      50342.20\n",
       "0.85      99978.15\n",
       "0.90     156544.30\n",
       "0.95     261306.35\n",
       "1.00    6651765.00\n",
       "Name: count, dtype: float64"
      ]
     },
     "execution_count": 26,
     "metadata": {},
     "output_type": "execute_result"
    }
   ],
   "source": [
    "count_Prscrbr_Type.quantile(np.linspace(0, 1, 21))"
   ]
  },
  {
   "cell_type": "markdown",
   "metadata": {},
   "source": [
    "Making a list of quantiles from zero to $100\\%$, in steps of $5\\%$, we see an almost exponential growth in number of physicians per type. Let's cut aggressively then: it will not change the number of data points substantially."
   ]
  },
  {
   "cell_type": "code",
   "execution_count": 27,
   "metadata": {},
   "outputs": [],
   "source": [
    "q_Prscrbr_Type = 0.70\n",
    "cut_value = count_Prscrbr_Type.quantile(q_Prscrbr_Type)\n",
    "\n",
    "useful_Prscrbr_Type = count_Prscrbr_Type[count_Prscrbr_Type >= cut_value].index"
   ]
  },
  {
   "cell_type": "code",
   "execution_count": 28,
   "metadata": {},
   "outputs": [
    {
     "data": {
      "text/plain": [
       "Index(['Family Practice', 'Internal Medicine', 'Nurse Practitioner',\n",
       "       'Physician Assistant', 'Cardiology', 'Psychiatry', 'General Practice',\n",
       "       'Neurology', 'Endocrinology', 'Ophthalmology', 'Nephrology',\n",
       "       'Emergency Medicine', 'Dentist', 'Pulmonary Disease',\n",
       "       'Gastroenterology', 'Hematology-Oncology', 'Dermatology', 'Urology',\n",
       "       'Rheumatology', 'Hospitalist', 'Interventional Cardiology',\n",
       "       'Geriatric Medicine',\n",
       "       'Student in an Organized Health Care Education/Training Program',\n",
       "       'Optometry', 'Obstetrics & Gynecology', 'Psychiatry & Neurology',\n",
       "       'Orthopedic Surgery', 'Infectious Disease',\n",
       "       'Physical Medicine and Rehabilitation', 'Otolaryngology', 'Podiatry',\n",
       "       'General Surgery', 'Medical Oncology', 'Allergy/ Immunology',\n",
       "       'Clinical Cardiac Electrophysiology', 'Pharmacist', 'Anesthesiology',\n",
       "       'Pain Management', 'Pediatric Medicine',\n",
       "       'Certified Clinical Nurse Specialist', 'Interventional Pain Management',\n",
       "       'Oral Surgery (Dentist only)', 'Critical Care (Intensivists)',\n",
       "       'Advanced Heart Failure and Transplant Cardiology',\n",
       "       'Hospice and Palliative Care', 'Neuropsychiatry',\n",
       "       'Osteopathic Manipulative Medicine', 'Neurosurgery', 'Vascular Surgery',\n",
       "       'Radiation Oncology', 'Family Medicine', 'Specialist', 'Hematology',\n",
       "       'Sports Medicine'],\n",
       "      dtype='object', name='Prscrbr_Type')"
      ]
     },
     "execution_count": 28,
     "metadata": {},
     "output_type": "execute_result"
    }
   ],
   "source": [
    "useful_Prscrbr_Type"
   ]
  },
  {
   "cell_type": "code",
   "execution_count": 29,
   "metadata": {},
   "outputs": [],
   "source": [
    "df = df[df['Prscrbr_Type'].isin(useful_Prscrbr_Type)]"
   ]
  },
  {
   "cell_type": "code",
   "execution_count": 30,
   "metadata": {},
   "outputs": [
    {
     "data": {
      "text/plain": [
       "(25754507, 4)"
      ]
     },
     "execution_count": 30,
     "metadata": {},
     "output_type": "execute_result"
    }
   ],
   "source": [
    "df.shape"
   ]
  },
  {
   "cell_type": "markdown",
   "metadata": {},
   "source": [
    "We only reduced the number of data points from $25,869,516$ to $25,754,507$!"
   ]
  },
  {
   "cell_type": "markdown",
   "metadata": {},
   "source": [
    "Now let's look into the physicians:"
   ]
  },
  {
   "cell_type": "code",
   "execution_count": 31,
   "metadata": {},
   "outputs": [],
   "source": [
    "count_Prscrbr_NPI = df['Prscrbr_NPI'].value_counts()"
   ]
  },
  {
   "cell_type": "code",
   "execution_count": 32,
   "metadata": {},
   "outputs": [
    {
     "data": {
      "text/plain": [
       "0.00      1.0\n",
       "0.05      1.0\n",
       "0.10      1.0\n",
       "0.15      1.0\n",
       "0.20      2.0\n",
       "0.25      2.0\n",
       "0.30      3.0\n",
       "0.35      4.0\n",
       "0.40      5.0\n",
       "0.45      6.0\n",
       "0.50      8.0\n",
       "0.55     10.0\n",
       "0.60     13.0\n",
       "0.65     17.0\n",
       "0.70     22.0\n",
       "0.75     29.0\n",
       "0.80     39.0\n",
       "0.85     53.0\n",
       "0.90     75.0\n",
       "0.95    111.0\n",
       "1.00    590.0\n",
       "Name: count, dtype: float64"
      ]
     },
     "execution_count": 32,
     "metadata": {},
     "output_type": "execute_result"
    }
   ],
   "source": [
    "count_Prscrbr_NPI.quantile(np.linspace(0, 1, 21))"
   ]
  },
  {
   "cell_type": "markdown",
   "metadata": {},
   "source": [
    "Again, a very exponential-like growth of number of prescriptions per physician. Let's cut aggressively again, but remember: this may impact the quality of the subsequent analysis, so it may be interesting to revisit these arbitrary decisions later."
   ]
  },
  {
   "cell_type": "code",
   "execution_count": 33,
   "metadata": {},
   "outputs": [],
   "source": [
    "q_Prscrbr_NPI = 0.5\n",
    "cut_value = count_Prscrbr_NPI.quantile(q_Prscrbr_NPI)\n",
    "\n",
    "useful_Prscrbr_NPI = count_Prscrbr_NPI[count_Prscrbr_NPI >= cut_value].index"
   ]
  },
  {
   "cell_type": "code",
   "execution_count": 34,
   "metadata": {},
   "outputs": [
    {
     "data": {
      "text/plain": [
       "537484"
      ]
     },
     "execution_count": 34,
     "metadata": {},
     "output_type": "execute_result"
    }
   ],
   "source": [
    "len(useful_Prscrbr_NPI)"
   ]
  },
  {
   "cell_type": "code",
   "execution_count": 35,
   "metadata": {},
   "outputs": [],
   "source": [
    "df = df[df['Prscrbr_NPI'].isin(useful_Prscrbr_NPI)]"
   ]
  },
  {
   "cell_type": "code",
   "execution_count": 36,
   "metadata": {},
   "outputs": [
    {
     "data": {
      "text/plain": [
       "(24297207, 4)"
      ]
     },
     "execution_count": 36,
     "metadata": {},
     "output_type": "execute_result"
    }
   ],
   "source": [
    "df.shape"
   ]
  },
  {
   "cell_type": "markdown",
   "metadata": {},
   "source": [
    "We are keeping a large portion of the information still: $24,297,207$, from the previous number of $25,754,507$ rows."
   ]
  },
  {
   "cell_type": "markdown",
   "metadata": {},
   "source": [
    "Now let's investigate the drugs:"
   ]
  },
  {
   "cell_type": "code",
   "execution_count": 37,
   "metadata": {},
   "outputs": [],
   "source": [
    "count_Gnrc_Name = df['Gnrc_Name'].value_counts()"
   ]
  },
  {
   "cell_type": "code",
   "execution_count": 38,
   "metadata": {},
   "outputs": [
    {
     "data": {
      "text/plain": [
       "Gnrc_Name\n",
       "Levothyroxine Sodium    399226\n",
       "Metformin Hcl           383512\n",
       "Gabapentin              315303\n",
       "Atorvastatin Calcium    307186\n",
       "Albuterol Sulfate       301663\n",
       "Amlodipine Besylate     299293\n",
       "Lisinopril              286633\n",
       "Losartan Potassium      270682\n",
       "Omeprazole              260114\n",
       "Furosemide              256761\n",
       "Name: count, dtype: int64"
      ]
     },
     "execution_count": 38,
     "metadata": {},
     "output_type": "execute_result"
    }
   ],
   "source": [
    "count_Gnrc_Name.head(10)"
   ]
  },
  {
   "cell_type": "code",
   "execution_count": 39,
   "metadata": {},
   "outputs": [
    {
     "data": {
      "text/plain": [
       "Gnrc_Name\n",
       "Pediatric Multivitamin No.17      1\n",
       "Opium/Belladonna Alkaloids        1\n",
       "Ethacrynate Sodium                1\n",
       "Mannitol                          1\n",
       "Carglumic Acid                    1\n",
       "Lansoprazole/Amoxiciln/Clarith    1\n",
       "Acetaminophen                     1\n",
       "Methotrexate                      1\n",
       "Secnidazole                       1\n",
       "Trifarotene                       1\n",
       "Name: count, dtype: int64"
      ]
     },
     "execution_count": 39,
     "metadata": {},
     "output_type": "execute_result"
    }
   ],
   "source": [
    "count_Gnrc_Name.tail(10)"
   ]
  },
  {
   "cell_type": "code",
   "execution_count": 40,
   "metadata": {},
   "outputs": [
    {
     "data": {
      "text/plain": [
       "0.00         1.00\n",
       "0.05         1.00\n",
       "0.10         3.00\n",
       "0.15         7.00\n",
       "0.20        13.00\n",
       "0.25        23.00\n",
       "0.30        37.00\n",
       "0.35        59.00\n",
       "0.40       111.00\n",
       "0.45       187.25\n",
       "0.50       303.00\n",
       "0.55       601.75\n",
       "0.60       998.00\n",
       "0.65      1627.50\n",
       "0.70      2728.00\n",
       "0.75      4894.50\n",
       "0.80      7601.00\n",
       "0.85     14959.00\n",
       "0.90     33058.50\n",
       "0.95     93739.25\n",
       "1.00    399226.00\n",
       "Name: count, dtype: float64"
      ]
     },
     "execution_count": 40,
     "metadata": {},
     "output_type": "execute_result"
    }
   ],
   "source": [
    "count_Gnrc_Name.quantile(np.linspace(0, 1, 21))"
   ]
  },
  {
   "cell_type": "markdown",
   "metadata": {},
   "source": [
    "Again, an exponential growth in quantiles, let's cut:"
   ]
  },
  {
   "cell_type": "code",
   "execution_count": 41,
   "metadata": {},
   "outputs": [],
   "source": [
    "q_Gnrc_Name = 0.5\n",
    "cut_value = count_Gnrc_Name.quantile(q_Gnrc_Name)\n",
    "\n",
    "useful_Gnrc_Name = count_Gnrc_Name[count_Gnrc_Name >= cut_value].index"
   ]
  },
  {
   "cell_type": "code",
   "execution_count": 42,
   "metadata": {},
   "outputs": [
    {
     "data": {
      "text/plain": [
       "Index(['Levothyroxine Sodium', 'Metformin Hcl', 'Gabapentin',\n",
       "       'Atorvastatin Calcium', 'Albuterol Sulfate', 'Amlodipine Besylate',\n",
       "       'Lisinopril', 'Losartan Potassium', 'Omeprazole', 'Furosemide',\n",
       "       ...\n",
       "       'Alectinib Hcl', 'Sulfacetamide Sodium', 'Fondaparinux Sodium',\n",
       "       'Sub-Q Insulin Device, 30 Unit', 'Trametinib Dimethyl Sulfoxide',\n",
       "       'Chlordiazepoxide/Clidinium Br', 'Erythromycin Base In Ethanol',\n",
       "       'Lamivudine/Zidovudine', 'Emtricita/Rilpivirine/Tenof Df',\n",
       "       'Dipyridamole'],\n",
       "      dtype='object', name='Gnrc_Name', length=875)"
      ]
     },
     "execution_count": 42,
     "metadata": {},
     "output_type": "execute_result"
    }
   ],
   "source": [
    "useful_Gnrc_Name"
   ]
  },
  {
   "cell_type": "code",
   "execution_count": 43,
   "metadata": {},
   "outputs": [],
   "source": [
    "df = df[df['Gnrc_Name'].isin(useful_Gnrc_Name)]"
   ]
  },
  {
   "cell_type": "code",
   "execution_count": 44,
   "metadata": {},
   "outputs": [
    {
     "data": {
      "text/plain": [
       "(24246835, 4)"
      ]
     },
     "execution_count": 44,
     "metadata": {},
     "output_type": "execute_result"
    }
   ],
   "source": [
    "df.shape"
   ]
  },
  {
   "cell_type": "markdown",
   "metadata": {},
   "source": [
    "Finally, after all this filtering, we went from $25,869,521$ items to $24,246,835$."
   ]
  },
  {
   "cell_type": "code",
   "execution_count": 45,
   "metadata": {},
   "outputs": [
    {
     "name": "stdout",
     "output_type": "stream",
     "text": [
      "We dropped 6.27% of the data\n"
     ]
    }
   ],
   "source": [
    "print(f'We dropped {1.0 - 24246835/25869521:.2%} of the data')"
   ]
  },
  {
   "cell_type": "code",
   "execution_count": 46,
   "metadata": {},
   "outputs": [
    {
     "data": {
      "text/plain": [
       "537484"
      ]
     },
     "execution_count": 46,
     "metadata": {},
     "output_type": "execute_result"
    }
   ],
   "source": [
    "df['Prscrbr_NPI'].nunique()"
   ]
  },
  {
   "cell_type": "code",
   "execution_count": 47,
   "metadata": {},
   "outputs": [
    {
     "data": {
      "text/plain": [
       "875"
      ]
     },
     "execution_count": 47,
     "metadata": {},
     "output_type": "execute_result"
    }
   ],
   "source": [
    "df['Gnrc_Name'].nunique()"
   ]
  },
  {
   "cell_type": "code",
   "execution_count": 48,
   "metadata": {},
   "outputs": [
    {
     "data": {
      "text/plain": [
       "273091620"
      ]
     },
     "execution_count": 48,
     "metadata": {},
     "output_type": "execute_result"
    }
   ],
   "source": [
    "318660 * 857"
   ]
  },
  {
   "cell_type": "code",
   "execution_count": 49,
   "metadata": {},
   "outputs": [
    {
     "data": {
      "text/plain": [
       "(24246835, 4)"
      ]
     },
     "execution_count": 49,
     "metadata": {},
     "output_type": "execute_result"
    }
   ],
   "source": [
    "df.shape"
   ]
  },
  {
   "cell_type": "code",
   "execution_count": 50,
   "metadata": {},
   "outputs": [
    {
     "data": {
      "text/plain": [
       "0.07836310026649665"
      ]
     },
     "execution_count": 50,
     "metadata": {},
     "output_type": "execute_result"
    }
   ],
   "source": [
    "21400306 / 273091620"
   ]
  },
  {
   "cell_type": "markdown",
   "metadata": {},
   "source": [
    "create a sparse matrix from the dataframe"
   ]
  },
  {
   "cell_type": "code",
   "execution_count": 51,
   "metadata": {},
   "outputs": [],
   "source": [
    "df = df.reset_index(drop=True)"
   ]
  },
  {
   "cell_type": "code",
   "execution_count": 52,
   "metadata": {},
   "outputs": [],
   "source": [
    "df['Prscrbr_NPI'] = df['Prscrbr_NPI'].astype('category')\n",
    "df['Gnrc_Name'] = df['Gnrc_Name'].astype('category')\n",
    "df['Prscrbr_Type'] = df['Prscrbr_Type'].astype('category')\n",
    "df['Tot_Clms'] = df['Tot_Clms'].astype(float)"
   ]
  },
  {
   "cell_type": "code",
   "execution_count": 53,
   "metadata": {},
   "outputs": [
    {
     "name": "stdout",
     "output_type": "stream",
     "text": [
      "<class 'pandas.core.frame.DataFrame'>\n",
      "RangeIndex: 24246835 entries, 0 to 24246834\n",
      "Data columns (total 4 columns):\n",
      " #   Column        Dtype   \n",
      "---  ------        -----   \n",
      " 0   Prscrbr_NPI   category\n",
      " 1   Prscrbr_Type  category\n",
      " 2   Gnrc_Name     category\n",
      " 3   Tot_Clms      float64 \n",
      "dtypes: category(3), float64(1)\n",
      "memory usage: 367.1 MB\n"
     ]
    }
   ],
   "source": [
    "df.info()"
   ]
  },
  {
   "cell_type": "code",
   "execution_count": 54,
   "metadata": {},
   "outputs": [
    {
     "data": {
      "text/plain": [
       "Index(['0.9 % Sodium Chloride', 'Abacavir Sulfate',\n",
       "       'Abacavir Sulfate/Lamivudine', 'Abacavir/Dolutegravir/Lamivudi',\n",
       "       'Abaloparatide', 'Abatacept', 'Abemaciclib', 'Abiraterone Acetate',\n",
       "       'Acalabrutinib', 'Acamprosate Calcium',\n",
       "       ...\n",
       "       'Voriconazole', 'Vortioxetine Hydrobromide', 'Warfarin Sodium',\n",
       "       'Zafirlukast', 'Zaleplon', 'Zanubrutinib', 'Ziprasidone Hcl',\n",
       "       'Zolmitriptan', 'Zolpidem Tartrate', 'Zonisamide'],\n",
       "      dtype='object', length=875)"
      ]
     },
     "execution_count": 54,
     "metadata": {},
     "output_type": "execute_result"
    }
   ],
   "source": [
    "df['Gnrc_Name'].cat.categories"
   ]
  },
  {
   "cell_type": "code",
   "execution_count": 55,
   "metadata": {},
   "outputs": [
    {
     "data": {
      "text/html": [
       "<div>\n",
       "<style scoped>\n",
       "    .dataframe tbody tr th:only-of-type {\n",
       "        vertical-align: middle;\n",
       "    }\n",
       "\n",
       "    .dataframe tbody tr th {\n",
       "        vertical-align: top;\n",
       "    }\n",
       "\n",
       "    .dataframe thead th {\n",
       "        text-align: right;\n",
       "    }\n",
       "</style>\n",
       "<table border=\"1\" class=\"dataframe\">\n",
       "  <thead>\n",
       "    <tr style=\"text-align: right;\">\n",
       "      <th></th>\n",
       "      <th>Prscrbr_NPI</th>\n",
       "      <th>Prscrbr_Type</th>\n",
       "      <th>Gnrc_Name</th>\n",
       "      <th>Tot_Clms</th>\n",
       "    </tr>\n",
       "  </thead>\n",
       "  <tbody>\n",
       "    <tr>\n",
       "      <th>0</th>\n",
       "      <td>1003000126</td>\n",
       "      <td>Internal Medicine</td>\n",
       "      <td>Amlodipine Besylate</td>\n",
       "      <td>19.0</td>\n",
       "    </tr>\n",
       "    <tr>\n",
       "      <th>1</th>\n",
       "      <td>1003000126</td>\n",
       "      <td>Internal Medicine</td>\n",
       "      <td>Atorvastatin Calcium</td>\n",
       "      <td>11.0</td>\n",
       "    </tr>\n",
       "    <tr>\n",
       "      <th>2</th>\n",
       "      <td>1003000126</td>\n",
       "      <td>Internal Medicine</td>\n",
       "      <td>Apixaban</td>\n",
       "      <td>15.0</td>\n",
       "    </tr>\n",
       "    <tr>\n",
       "      <th>3</th>\n",
       "      <td>1003000126</td>\n",
       "      <td>Internal Medicine</td>\n",
       "      <td>Escitalopram Oxalate</td>\n",
       "      <td>16.0</td>\n",
       "    </tr>\n",
       "    <tr>\n",
       "      <th>4</th>\n",
       "      <td>1003000126</td>\n",
       "      <td>Internal Medicine</td>\n",
       "      <td>Hydrochlorothiazide</td>\n",
       "      <td>12.0</td>\n",
       "    </tr>\n",
       "  </tbody>\n",
       "</table>\n",
       "</div>"
      ],
      "text/plain": [
       "  Prscrbr_NPI       Prscrbr_Type             Gnrc_Name  Tot_Clms\n",
       "0  1003000126  Internal Medicine   Amlodipine Besylate      19.0\n",
       "1  1003000126  Internal Medicine  Atorvastatin Calcium      11.0\n",
       "2  1003000126  Internal Medicine              Apixaban      15.0\n",
       "3  1003000126  Internal Medicine  Escitalopram Oxalate      16.0\n",
       "4  1003000126  Internal Medicine   Hydrochlorothiazide      12.0"
      ]
     },
     "execution_count": 55,
     "metadata": {},
     "output_type": "execute_result"
    }
   ],
   "source": [
    "df.head()"
   ]
  },
  {
   "cell_type": "code",
   "execution_count": 56,
   "metadata": {},
   "outputs": [
    {
     "data": {
      "text/plain": [
       "0            39\n",
       "1            64\n",
       "2            52\n",
       "3           310\n",
       "4           401\n",
       "           ... \n",
       "24246830    860\n",
       "24246831    364\n",
       "24246832    720\n",
       "24246833    869\n",
       "24246834    873\n",
       "Length: 24246835, dtype: int16"
      ]
     },
     "execution_count": 56,
     "metadata": {},
     "output_type": "execute_result"
    }
   ],
   "source": [
    "df['Gnrc_Name'].cat.codes"
   ]
  },
  {
   "cell_type": "code",
   "execution_count": 57,
   "metadata": {},
   "outputs": [
    {
     "data": {
      "text/plain": [
       "'Albuterol Sulfate'"
      ]
     },
     "execution_count": 57,
     "metadata": {},
     "output_type": "execute_result"
    }
   ],
   "source": [
    "df['Gnrc_Name'].cat.categories[19]"
   ]
  },
  {
   "cell_type": "code",
   "execution_count": 58,
   "metadata": {},
   "outputs": [],
   "source": [
    "row_index = df['Prscrbr_NPI'].cat.codes\n",
    "num_rows = df['Prscrbr_NPI'].cat.categories.size\n",
    "\n",
    "col_index = df['Gnrc_Name'].cat.codes\n",
    "num_cols = df['Gnrc_Name'].cat.categories.size\n",
    "\n",
    "values = df['Tot_Clms'].values"
   ]
  },
  {
   "cell_type": "code",
   "execution_count": 59,
   "metadata": {},
   "outputs": [],
   "source": [
    "from scipy.sparse import csr_matrix\n",
    "\n",
    "sparse_matrix = csr_matrix(\n",
    "    (values, (row_index, col_index)),\n",
    "    shape=(num_rows, num_cols),\n",
    ")"
   ]
  },
  {
   "cell_type": "code",
   "execution_count": 60,
   "metadata": {},
   "outputs": [
    {
     "data": {
      "text/plain": [
       "(537484, 875)"
      ]
     },
     "execution_count": 60,
     "metadata": {},
     "output_type": "execute_result"
    }
   ],
   "source": [
    "sparse_matrix.shape"
   ]
  },
  {
   "cell_type": "code",
   "execution_count": 61,
   "metadata": {},
   "outputs": [],
   "source": [
    "from scipy.sparse.linalg import svds"
   ]
  },
  {
   "cell_type": "code",
   "execution_count": 62,
   "metadata": {},
   "outputs": [],
   "source": [
    "U, sigma, Vt = svds(sparse_matrix, k=20)"
   ]
  },
  {
   "cell_type": "code",
   "execution_count": 63,
   "metadata": {},
   "outputs": [
    {
     "data": {
      "text/plain": [
       "((537484, 20), (20,), (20, 875))"
      ]
     },
     "execution_count": 63,
     "metadata": {},
     "output_type": "execute_result"
    }
   ],
   "source": [
    "U.shape, sigma.shape, Vt.shape"
   ]
  },
  {
   "cell_type": "code",
   "execution_count": 64,
   "metadata": {},
   "outputs": [],
   "source": [
    "np.savetxt(DATA_DIR / 'features.tsv', Vt.T, delimiter='\\t')"
   ]
  },
  {
   "cell_type": "code",
   "execution_count": 65,
   "metadata": {},
   "outputs": [],
   "source": [
    "np.savetxt(\n",
    "    DATA_DIR / 'labels.tsv',\n",
    "    df['Gnrc_Name'].cat.categories.values,\n",
    "    delimiter='\\t',\n",
    "    fmt='%s',\n",
    "    encoding='utf-8',\n",
    ")"
   ]
  },
  {
   "cell_type": "code",
   "execution_count": null,
   "metadata": {},
   "outputs": [],
   "source": []
  }
 ],
 "metadata": {
  "kernelspec": {
   "display_name": "dorgas",
   "language": "python",
   "name": "python3"
  },
  "language_info": {
   "codemirror_mode": {
    "name": "ipython",
    "version": 3
   },
   "file_extension": ".py",
   "mimetype": "text/x-python",
   "name": "python",
   "nbconvert_exporter": "python",
   "pygments_lexer": "ipython3",
   "version": "3.11.9"
  }
 },
 "nbformat": 4,
 "nbformat_minor": 2
}
